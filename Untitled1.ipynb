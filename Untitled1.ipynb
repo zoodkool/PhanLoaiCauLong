
import numpy as np
import cv2
thresh = 240
maxValue = 255

cv2.namedWindow("output", cv2.WINDOW_NORMAL)        # Create window with freedom of dimensions
cv2.resizeWindow("output", 700, 500) 

img = cv2.imread("2.jpg")
crop_img = img[420:1000, 250:1600]
##crop_img = img[250:1600, 960:1600]
gray = cv2.cvtColor(crop_img, cv2.COLOR_BGR2GRAY)
gray = np.float32(gray)

th, img_thres = cv2.threshold(gray, thresh, maxValue, cv2.THRESH_BINARY);

# Tim goc
corners = cv2.goodFeaturesToTrack(img_thres, 100, 0.01, 10)
corners = np.int0(corners)
#print(corners)

# chuyen vi ma tran
T_matrix = corners.T
ngang = T_matrix[0][0]
doc = T_matrix[1][0]

#vi tri ben tren
x1 = np.amin(ngang)
vitri_x1 = np.argmin(ngang)
y1 = doc[vitri_x1]

#vi tri ben duoi
x2 = np.amax(ngang)
vitri_x2 = np.argmax(ngang)
y2 = doc[vitri_x2]

#tinh khoan cach
khoancach = abs(y2-y1)
print(khoancach)

for corner in corners:
    x,y = corner.ravel()
    cv2.circle(crop_img,(x,y),5,100,-1)
    
cv2.imshow("output",crop_img)
cv2.waitKey(0)
cv2.destroyAllWindows()
