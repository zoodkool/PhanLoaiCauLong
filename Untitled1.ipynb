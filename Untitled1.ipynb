{
 "cells": [
  {
   "cell_type": "code",
   "execution_count": 1,
   "metadata": {},
   "outputs": [],
   "source": [
    "import numpy as np\n",
    "import cv2\n",
    "\n",
    "img = cv2.imread(\"sample1.jpg\")\n",
    "gray = cv2.cvtColor(img, cv2.COLOR_BGR2GRAY)\n",
    "gray = np.float32(gray)\n",
    "\n",
    "corners = cv2.goodFeaturesToTrack(gray, 100, 0.01, 10)\n",
    "corners = np.int0(corners)\n",
    "for corner in corners:\n",
    "    x,y = corner.ravel()\n",
    "    cv2.circle(img,(x,y),3,255,-1)\n",
    "    \n",
    "cv2.imshow(\"Corner\",img)\n",
    "cv2.waitKey(0)\n",
    "cv2.destroyAllWindows()"
   ]
  },
  {
   "cell_type": "code",
   "execution_count": 5,
   "metadata": {},
   "outputs": [
    {
     "name": "stdout",
     "output_type": "stream",
     "text": [
      "25\n"
     ]
    }
   ],
   "source": [
    "import numpy as np\n",
    "import cv2\n",
    "thresh = 220\n",
    "maxValue = 255\n",
    "\n",
    "img = cv2.imread(\"sample1.jpg\")\n",
    "crop_img = img[250:450, 400:1000]\n",
    "gray = cv2.cvtColor(crop_img, cv2.COLOR_BGR2GRAY)\n",
    "gray = np.float32(gray)\n",
    "\n",
    "th, img_thres = cv2.threshold(gray, thresh, maxValue, cv2.THRESH_BINARY);\n",
    "\n",
    "# Tim goc\n",
    "corners = cv2.goodFeaturesToTrack(img_thres, 100, 0.01, 10)\n",
    "corners = np.int0(corners)\n",
    "#print(corners)\n",
    "\n",
    "# chuyen vi ma tran\n",
    "T_matrix = corners.T\n",
    "ngang = T_matrix[0][0]\n",
    "doc = T_matrix[1][0]\n",
    "\n",
    "#vi tri ben trai\n",
    "x1 = np.amin(ngang)\n",
    "vitri_x1 = np.argmin(ngang)\n",
    "y1 = doc[vitri_x1]\n",
    "\n",
    "#vi tri ben phai\n",
    "x2 = np.amax(ngang)\n",
    "vitri_x2 = np.argmax(ngang)\n",
    "y2 = doc[vitri_x2]\n",
    "\n",
    "#tinh khoan cach\n",
    "khoancach = abs(y2-y1)\n",
    "print(khoancach)\n",
    "\n",
    "for corner in corners:\n",
    "    x,y = corner.ravel()\n",
    "    cv2.circle(img_thres,(x,y),3,255,-1)\n",
    "    \n",
    "cv2.imshow(\"Corner\",img_thres)\n",
    "cv2.waitKey(0)\n",
    "cv2.destroyAllWindows()"
   ]
  },
  {
   "cell_type": "code",
   "execution_count": null,
   "metadata": {},
   "outputs": [],
   "source": []
  }
 ],
 "metadata": {
  "kernelspec": {
   "display_name": "Python 3",
   "language": "python",
   "name": "python3"
  },
  "language_info": {
   "codemirror_mode": {
    "name": "ipython",
    "version": 3
   },
   "file_extension": ".py",
   "mimetype": "text/x-python",
   "name": "python",
   "nbconvert_exporter": "python",
   "pygments_lexer": "ipython3",
   "version": "3.7.0"
  }
 },
 "nbformat": 4,
 "nbformat_minor": 2
}
